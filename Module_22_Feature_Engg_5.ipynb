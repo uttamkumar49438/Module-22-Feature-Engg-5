{
  "nbformat": 4,
  "nbformat_minor": 0,
  "metadata": {
    "colab": {
      "provenance": []
    },
    "kernelspec": {
      "name": "python3",
      "display_name": "Python 3"
    },
    "language_info": {
      "name": "python"
    }
  },
  "cells": [
    {
      "cell_type": "markdown",
      "source": [
        "Q1. What is the difference between Ordinal Encoding and Label Encoding? Provide an example of when you\n",
        "might choose one over the other."
      ],
      "metadata": {
        "id": "JFWgVZpLp7pr"
      }
    },
    {
      "cell_type": "markdown",
      "source": [
        "Ordinal Encoding: Assigns numerical values to categories based on their order or rank.\n",
        "\n",
        "Label Encoding: Assigns a unique numerical label to each category without considering any order."
      ],
      "metadata": {
        "id": "JEYMHIORp_f3"
      }
    },
    {
      "cell_type": "markdown",
      "source": [
        "Q2. Explain how Target Guided Ordinal Encoding works and provide an example of when you might use it in\n",
        "a machine learning project."
      ],
      "metadata": {
        "id": "Ov7ozGVEqEys"
      }
    },
    {
      "cell_type": "markdown",
      "source": [
        "Target Guided Ordinal Encoding is a technique where categories are assigned ordinal values based on the target variable's mean or median within each category.\n"
      ],
      "metadata": {
        "id": "2dnWlw76qHnI"
      }
    },
    {
      "cell_type": "markdown",
      "source": [
        "Q3. Define covariance and explain why it is important in statistical analysis. How is covariance calculated?"
      ],
      "metadata": {
        "id": "cHH8U0IEqL39"
      }
    },
    {
      "cell_type": "markdown",
      "source": [
        "Covariance measures the degree to which two variables change together. A positive covariance indicates that the variables tend to increase or decrease together, while a negative covariance indicates an inverse relationship.\n",
        "\n",
        "It is important in statistical analysis as it helps identify the relationship between variables and can be used in feature selection, dimensionality reduction, and modeling."
      ],
      "metadata": {
        "id": "hIVzR4qyqPFl"
      }
    },
    {
      "cell_type": "markdown",
      "source": [
        "Q4. For a dataset with the following categorical variables: Color (red, green, blue), Size (small, medium,\n",
        "large), and Material (wood, metal, plastic), perform label encoding using Python's scikit-learn library.\n",
        "Show your code and explain the output."
      ],
      "metadata": {
        "id": "vKhN5V5aqTmn"
      }
    },
    {
      "cell_type": "code",
      "source": [
        "from sklearn.preprocessing import LabelEncoder\n",
        "\n",
        "# Sample dataset\n",
        "data = {\n",
        "    'Color': ['red', 'green', 'blue', 'green'],\n",
        "    'Size': ['small', 'medium', 'large', 'medium'],\n",
        "    'Material': ['wood', 'metal', 'plastic', 'wood']\n",
        "}\n",
        "\n",
        "# Initialize LabelEncoder\n",
        "label_encoder = LabelEncoder()\n",
        "\n",
        "# Apply Label Encoding\n",
        "encoded_data = data.copy()\n",
        "for col in data.columns:\n",
        "    encoded_data[col] = label_encoder.fit_transform(data[col])\n",
        "\n",
        "print(encoded_data)"
      ],
      "metadata": {
        "id": "Vmja02SLqXo2"
      },
      "execution_count": null,
      "outputs": []
    },
    {
      "cell_type": "markdown",
      "source": [
        "Q5. Calculate the covariance matrix for the following variables in a dataset: Age, Income, and Education\n",
        "level. Interpret the results."
      ],
      "metadata": {
        "id": "WQfVt0I7qc7E"
      }
    },
    {
      "cell_type": "markdown",
      "source": [
        "= The covariance matrix is a square matrix where each element represents the covariance between two variables.\n",
        "\n",
        "= Interpretation depends on the sign and magnitude of each covariance"
      ],
      "metadata": {
        "id": "tSsaY8j1qgEw"
      }
    },
    {
      "cell_type": "markdown",
      "source": [
        "Q6. You are working on a machine learning project with a dataset containing several categorical\n",
        "variables, including \"Gender\" (Male/Female), \"Education Level\" (High School/Bachelor's/Master's/PhD),\n",
        "and \"Employment Status\" (Unemployed/Part-Time/Full-Time). Which encoding method would you use for\n",
        "each variable, and why?"
      ],
      "metadata": {
        "id": "_PvjC1dbr_Ro"
      }
    },
    {
      "cell_type": "markdown",
      "source": [
        "=Gender: Use nominal encoding as there's no inherent order between Male and Female.\n",
        "\n",
        "=Education Level: Use ordinal encoding based on the level of education (High School < Bachelor's < Master's < PhD).\n",
        "\n",
        "= Employment Status: Use nominal encoding since there's no inherent order between employment statuses."
      ],
      "metadata": {
        "id": "UeToFJUhsCmZ"
      }
    },
    {
      "cell_type": "markdown",
      "source": [
        "Q7. You are analyzing a dataset with two continuous variables, \"Temperature\" and \"Humidity\", and two\n",
        "categorical variables, \"Weather Condition\" (Sunny/Cloudy/Rainy) and \"Wind Direction\" (North/South/\n",
        "East/West). Calculate the covariance between each pair of variables and interpret the results."
      ],
      "metadata": {
        "id": "hPC2SxUfsJDg"
      }
    },
    {
      "cell_type": "markdown",
      "source": [
        "=Calculate covariance only between continuous variables (Temperature and Humidity) as covariance is not applicable between continuous and categorical variables.\n",
        "\n",
        "=Interpret the covariance values to understand the relationship between Temperature and Humidity. A positive covariance indicates that they tend to increase or decrease together, while a negative covariance indicates an inverse relationship."
      ],
      "metadata": {
        "id": "xxdZGl8LsQ3D"
      }
    }
  ]
}